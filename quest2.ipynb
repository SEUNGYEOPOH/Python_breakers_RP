{
 "cells": [
  {
   "cell_type": "markdown",
   "id": "5c9ecc58-536a-4d8b-9714-4fc970dc381f",
   "metadata": {},
   "source": [
    "## 함수응용(예외처리 필수)"
   ]
  },
  {
   "cell_type": "markdown",
   "id": "a94ccaad-c2cc-4d82-ace1-6dbaf357259e",
   "metadata": {},
   "source": [
    "### 1. 로또 번호 생성기 함수를 만들어라. 정렬까지 포함할 것\n",
    "#### ps.입력값이 없으므로 예외처리를 하지않음."
   ]
  },
  {
   "cell_type": "code",
   "execution_count": 2,
   "id": "075dc987-d9b6-4ba5-a194-4eb45b442479",
   "metadata": {},
   "outputs": [
    {
     "name": "stdout",
     "output_type": "stream",
     "text": [
      "output : \n",
      "[[11, 18, 34, 15, 10, 28], [25, 5, 28, 16, 13, 34], [26, 10, 29, 35, 38, 21], [26, 30, 15, 40, 2, 34], [40, 7, 45, 39, 1, 27], [42, 1, 39, 33, 44, 20]]\n"
     ]
    }
   ],
   "source": [
    "import random #난수 추출을 위한 random import\n",
    "\n",
    "def exe(): #번호 추출 함수\n",
    "    lotto=[]#빈 list생성\n",
    "    for i in range(1,7):#6번 반복하여 6개의 난수 추출 \n",
    "        i=random.sample(range(1,46),6)#난수 \n",
    "        lotto.append(i)#append를 통해 빈 list에 난수 저장\n",
    "        i=0#초기화\n",
    "    lotto.sort()# sort를 통해 오름차 순으로 정렬\n",
    "    num(lotto)#출력함수 실행\n",
    "\n",
    "def num(lo): # 출력함수\n",
    "    print('output : ')\n",
    "    print(lo)#출력\n",
    "\n",
    "exe()#실행"
   ]
  },
  {
   "cell_type": "markdown",
   "id": "bdd00521-bddc-4419-8858-3d463bda3b02",
   "metadata": {},
   "source": [
    "### 2. 다음과 같이 문자열을 분석하는 함수를 만들어라. 반드시 내장함수를 이용하라\n",
    "#### ps.다른조건사항이 없으므로 숫자로된 문자열, 한글로된 문자열 등 모두를 분석할 수 있게 만듬."
   ]
  },
  {
   "cell_type": "code",
   "execution_count": 76,
   "id": "617be157-1f5d-471f-9da3-1a867390dd4e",
   "metadata": {},
   "outputs": [
    {
     "name": "stdin",
     "output_type": "stream",
     "text": [
      "input :\n",
      " 1asv@nav.com\n"
     ]
    },
    {
     "name": "stdout",
     "output_type": "stream",
     "text": [
      "\n",
      "output : \n",
      "문자의 개수 :  12\n",
      "가장 큰 문자열 :  v\n",
      "뒤집은 문자열 : moc.van@vsa1\n"
     ]
    }
   ],
   "source": [
    "try:\n",
    "    def first():# 입력함수\n",
    "        stc=input(\"input :\\n\")#입력받은 문자열\n",
    "        stc=stc.strip()#공백을 입력했을 경우를 대비해 공백제거\n",
    "        start(stc)#분석함수실행\n",
    "    \n",
    "    def start(stc):# 분석함수\n",
    "        print(\"\\noutput : \")\n",
    "        print('문자의 개수 : ',len(stc))#문자열의 길이를 len()함수로 구함\n",
    "        print('가장 큰 문자열 : ',max(stc))#아스키코드가 가장 큰 문자를 문자열안에서 max()함수를 통해 구함\n",
    "        stc=''.join(reversed(stc))#문자열에 바로 사용할 수 있는 함수인 reversed()를 통해 문자열을 반대로 만든 후 join으로 stc에 새로저장\n",
    "        print('뒤집은 문자열 :',stc)#출력\n",
    "        \n",
    "except:\n",
    "    print('잘못된 접근입니다.')\n",
    "\n",
    "first()#입력함수실행\n",
    "    "
   ]
  },
  {
   "cell_type": "markdown",
   "id": "84b84b0a-59aa-4e69-b7fe-1a89b3605843",
   "metadata": {},
   "source": [
    "### 3.내장함수와 datetime라이브러리를 이용하여 지금을 출력하고, 49일 1시간 8분 7초 후가 언제인지 출력하는 함수를 만들어라.\n",
    "#### ps. 입력값이 없으므로 예외처리를 하지 않음."
   ]
  },
  {
   "cell_type": "code",
   "execution_count": 67,
   "id": "12da9052-7e44-404d-9d7f-bdfac1208fc1",
   "metadata": {},
   "outputs": [
    {
     "name": "stdout",
     "output_type": "stream",
     "text": [
      "output :\n",
      "현재 :  2021년08월22일 22시37분10초 \n",
      "미래 :  2021년10월10일 23시45분17초\n"
     ]
    }
   ],
   "source": [
    "from datetime import datetime,timedelta #datetime 라이브러리에서 datetime과 timedelta를 import\n",
    "\n",
    "def today_future():#실행함수\n",
    "    today = datetime.now()#today에 현재시각 저장\n",
    "    now=today.strftime(\"%Y년%m월%d일 %H시%M분%S초\") #strftime을 이용하여 today에 저장된 날짜와 시간을 str형태로 now에 저장\n",
    "    next=today + timedelta(days=49, hours=1, minutes=8,  seconds=7) #timedelta를 이용하여 날짜와 시간 연산을 가능하게 한 후 현재 시간에 주어진 날짜 및 시간을 더하여 next에 저장\n",
    "    future=next.strftime(\"%Y년%m월%d일 %H시%M분%S초\")#strftime을 이용하여 next에 저장된 날짜와 시간을 str형태로 future에 저장\n",
    "    print(\"output :\\n현재 : \",now,\"\\n미래 : \",future )#출력\n",
    "    \n",
    "today_future()#실행\n",
    "\n"
   ]
  },
  {
   "cell_type": "markdown",
   "id": "2b91c603-f08a-4691-9f5d-4f900300cb4a",
   "metadata": {},
   "source": [
    "### 4. 정규표현식을 이용하여 이메일을 입력받으면 주어진 메일이 올바른 형식인지 파악하는 함수를 만들어라.\n",
    "- 이메일은 계정@도메인.최상위도메인 형식을 띤다.\n",
    "- 계정은 반드시 가장 앞에 나타나며 한 가지 이상의 문자로 표현되며, 영어 소문자와 대문자, 숫자, +, -, _, .의 특수문자만 포함될 수 있다. (플러스, 마이너스, 언더바, 닷)\n",
    "- 도메인은 @뒤에 나타나며 한 가지 이상의 문자로 표현되며, 마찬가지로 영어 소문자와 대문자, 숫자, +, -, _, .의 특수문자만 포함될 수 있다.\n",
    "- 최상위도메인은 가장 뒤에 나타나며 co.kr처럼 여러 단계일 수 있습니다. 또한 영어 소문자와 대문자, 숫자만 포함된다.\n",
    "#### ps.정규표현식에 의해서 검토가 가능하므로 try~except를 사용하지 않음."
   ]
  },
  {
   "cell_type": "code",
   "execution_count": null,
   "id": "ad7ba9a3-58ce-4cfb-b195-d3d04190a845",
   "metadata": {},
   "outputs": [],
   "source": [
    "import re#정규표현식에 필요한 re 임포트\n",
    "\n",
    "def check(): #체크함수\n",
    "    email=input('input:\\n')#이메일입력\n",
    "    email_check=re.compile('^[a-zA-Z0-9+-_.]+@[a-zA-Z0-9-]+\\.[a-zA-Z0-9-.]+$')#email_check에 정규식을 컴파일 \n",
    "    if email_check.match(email) != None : #match메서드를 이용하여 email의 처음부터 email_check와 매치되는 지 조사한 후 None이 아니면\n",
    "        print(\"\\noutput :\\n올바른 형식입니다.\") #올바른 형식 \n",
    "    else:\n",
    "        print(\"\\noutput :\\n형식을 다시 확인하여 주세요\") #none이 하나라도 있을 경우  \n",
    "        \n",
    "check()"
   ]
  },
  {
   "cell_type": "markdown",
   "id": "491e4936-a8a4-4f78-b1ee-d848321ed220",
   "metadata": {},
   "source": [
    "### 5. 영한사전 프로그램을 만들어라. Dictionary 자료구조를 이용해야 하며 다음의 기능이 포함된다.\n",
    "- <입력>: 사전에 영어단어와 한글단어 쌍이영어단어:한글단어의 형식으로 입력이 가능해야 하며, 해당 기능에서 <나가기> 전까지 연달아 입력할 수 있어야 한다.\n",
    "- <영어로검색>: 영어로 검색해서 한글단어를 찾을 수 있어야하며, 해당 기능에서 <나가기> 전까지 연달아 입력할 수 있어야 한다.\n",
    "- <한글로검색>: 한글로 검색해서 한글단어를 찾을 수 있어야하며, 해당 기능에서 <나가기> 전까지 연달아 입력할 수 있어야 한다.\n",
    "- <나가기>: 위의 기능들을 수행하는 도중에 <나가기>를 통해 메뉴로 나갈 수 있어야 한다.\n",
    "- <전체출력>: 사전에 있는 모든 영어단어:한글단어 이 출력되어야 한다.\n",
    "- <종료>: 프로그램을 종료시켜야 한다."
   ]
  },
  {
   "cell_type": "code",
   "execution_count": 4,
   "id": "bfe59a6d-43d1-4503-98f7-8053ca89f2ef",
   "metadata": {},
   "outputs": [
    {
     "name": "stdout",
     "output_type": "stream",
     "text": [
      "output :\n",
      "메뉴를 선택해주세요.\n",
      "1. 입력\n",
      "2. 전체출력\n",
      "3. 영어로검색\n",
      "4. 한글로검색\n",
      "5. 종료\n",
      "\n"
     ]
    },
    {
     "name": "stdin",
     "output_type": "stream",
     "text": [
      "input :\n",
      " 입력\n"
     ]
    },
    {
     "name": "stdout",
     "output_type": "stream",
     "text": [
      "\n",
      "output :\n",
      "입력을 선택하셨습니다.\n",
      "영단어:한글단어 쌍으로 입력해주시고, 끝났다면 나가기를 입력해주세요.\n"
     ]
    },
    {
     "name": "stdin",
     "output_type": "stream",
     "text": [
      "\n",
      "input :\n",
      " apple:사과\n",
      " banana:바나나\n",
      " 나가기\n"
     ]
    },
    {
     "name": "stdout",
     "output_type": "stream",
     "text": [
      "\n",
      "\n",
      "output :\n",
      "메뉴를 선택해주세요.\n",
      "1. 입력\n",
      "2. 전체출력\n",
      "3. 영어로검색\n",
      "4. 한글로검색\n",
      "5. 종료\n",
      "\n"
     ]
    },
    {
     "name": "stdin",
     "output_type": "stream",
     "text": [
      "input :\n",
      " 한글로검색\n"
     ]
    },
    {
     "name": "stdout",
     "output_type": "stream",
     "text": [
      "\n",
      "output :\n",
      "한글로 검색을 선택하셨습니다.\n",
      "한글을 입력하세요.\n",
      "\n"
     ]
    },
    {
     "name": "stdin",
     "output_type": "stream",
     "text": [
      "input:\n",
      " 사과\n"
     ]
    },
    {
     "name": "stdout",
     "output_type": "stream",
     "text": [
      "\n",
      "output : \n",
      " apple \n",
      "계속 검색 가능합니다.\n",
      "나가시려면 나가기를 입력해주세요.\n",
      "\n",
      "\n",
      "사전에 없는 단어이거나 입력형식이 잘못되었습니다.\n",
      "영어로는 영어로만,한글로는 한글로만 검색하여주세요\n"
     ]
    }
   ],
   "source": [
    "import re #정규표현식에 사용할 re 임포트\n",
    "def inp(wiki):#입력함수\n",
    "    print(\"\\noutput :\\n입력을 선택하셨습니다.\\n영단어:한글단어 쌍으로 입력해주시고, 끝났다면 나가기를 입력해주세요.\")#입력 선택 시 안내문\n",
    "    exit='나가기'\n",
    "    eng = re.compile('[a-zA-Z]')#영어 정규표현식\n",
    "    kor = re.compile('[ㄱ-ㅣ가-힣]')#한글 정규표현식\n",
    "    inp_val=input(\"\\ninput :\\n\")#값 입력\n",
    "        \n",
    "    while True:#반복\n",
    "        if \":\" in inp_val:#입력받은 값에 :가 있을 경우에만\n",
    "            i=inp_val.split(':')# i에 :를 기준으로 나누어 리스트에 저장 \n",
    "            if eng.match(i[0]) and kor.match(i[1]): #정규표현식을 이용 처음 입력한 값이 영어이고 그 후에 입력한 값이 한글일 경우에만\n",
    "                wiki[i[0]]=i[1]#딕셔너리에 저장\n",
    "                inp_val=input()#새로운 입력값\n",
    "        elif inp_val==exit:# 입력값이 나가기일 경우 break로 반복문 탈출\n",
    "            break \n",
    "        elif \":\" not in inp_val: #만약 :가 아닌 다른 구분자 일 경우 강제로 value에러를 발생시서 예외처리\n",
    "            raise ValueError\n",
    "        else: #한글이 먼저 나온 경우 Index에러를 강제로 발생시켜 예외처리\n",
    "            raise IndexError\n",
    "        \n",
    "    if inp_val==exit:#탈출 후 guide 함수로 다시 이동\n",
    "        print(\"\\n\")\n",
    "        guide(wiki)\n",
    " \n",
    "            \n",
    "def allprint(wiki):#전체출력함수\n",
    "    print('\\noutput :\\n전체출력 결과입니다.')\n",
    "    for k in wiki.keys(): #딕셔너리에 key값들만 k에 저장 시켜나감\n",
    "        print(k,':',wiki[k])# 반복하여 출력\n",
    "    print('\\n')\n",
    "    guide(wiki)#모두 출력했으면 다시 guide함수로 이동\n",
    "    \n",
    "def search_eng(wiki):#영어로검색함수\n",
    "    print('\\noutput :\\n영어로 검색을 선택하셨습니다.\\n영단어를 입력하세요.\\n')\n",
    "    stc=input('input:\\n')#입력받기\n",
    "    eng = re.compile('[a-zA-Z]')\n",
    "    exit='나가기'\n",
    "    while stc in wiki:# 입력받은 영어(key)가 딕셔너리에 있을 때\n",
    "        print('\\noutput : \\n',wiki[stc],'\\n계속 검색 가능합니다.\\n나가시려면 나가기를 입력해주세요.\\n')#출력 후 \n",
    "        stc=input('input:\\n')#재입력받기\n",
    "        if stc==exit:#만약 나가기일경우\n",
    "            break#반복문을 탈출\n",
    "    if stc==exit:#다시 guide함수로 이동\n",
    "        print('\\n')\n",
    "        guide(wiki)\n",
    "    else:#사전에 없는 단어를 입력했거나, 한글을 입력했을경우 강제로 StopIteration에러를 발생시켜 예외처리\n",
    "        raise StopIteration\n",
    "        \n",
    "def search_kor(wiki):#한글로검색함수\n",
    "    print('\\noutput :\\n한글로 검색을 선택하셨습니다.\\n한글을 입력하세요.\\n')\n",
    "    stc=input('input:\\n')#한글값입력\n",
    "    exit='나가기'\n",
    "    while True:#반복문\n",
    "        for eng,kor in wiki.items():#딕셔너리 특징을 이용하여 items를 통해 key:value쌍을 eng와 kor에 각각 저장을 유도\n",
    "            if kor == stc: #입력받은 한글단어(value)가 딕셔너리에 존재할 경우\n",
    "                print('\\noutput : \\n',eng,'\\n계속 검색 가능합니다.\\n나가시려면 나가기를 입력해주세요.\\n')#해당하는 key값 출력\n",
    "            else:\n",
    "                raise StopIteration\n",
    "        stc=input('input:\\n')#재입력\n",
    "        if stc==exit:#나가기일 경우 반복문 탈출\n",
    "            break\n",
    "    if stc==exit:#다시 가이드함수로 이동\n",
    "        guide(wiki)\n",
    "    else:#사전에 없는 단어를 입력했거나, 영어를 입력했을경우 강제로 StopIteration에러를 발생시켜 예외처리\n",
    "        raise StopIteration\n",
    "    \n",
    "\n",
    "def end():#종료함수\n",
    "    print(\"\\nouput:\\n사전을 종료합니다!\")#사전종료\n",
    "\n",
    "def guide(wiki):#guide함수\n",
    "    check1=\"입력\"\n",
    "    check2=\"전체출력\"\n",
    "    check3=\"영어로검색\"\n",
    "    check4=\"한글로검색\"\n",
    "    check5=\"종료\"\n",
    "    print(\"output :\\n메뉴를 선택해주세요.\\n1. 입력\\n2. 전체출력\\n3. 영어로검색\\n4. 한글로검색\\n5. 종료\\n\")#안내문\n",
    "    stc=input('input :\\n')#입력받기\n",
    "    if stc==check1: #입력한 값이 입력일 경우\n",
    "        inp(wiki)#입력함수로 이동\n",
    "\n",
    "    elif stc==check2: #입력한 값이 전체출력일 경우\n",
    "        allprint(wiki)#전체출력함수로이동\n",
    "\n",
    "    elif stc==check3: #입력한 값이 영어로검색일 경우\n",
    "        search_eng(wiki)#영어로 검색 함수로 이동\n",
    "\n",
    "    elif stc==check4: #입력한 값이 한글로검색일 경우\n",
    "        search_kor(wiki)#한글로 검색 함수로 이동\n",
    "\n",
    "    elif stc==check5: #입력한 값이 종료일 경우\n",
    "        end()#종료함수로 이동\n",
    "\n",
    "    else:#이외의 다른 내용을 입력했을 경우 강제로 value에러 발생시켜 예외처리\n",
    "        raise ValueError\n",
    "        \n",
    "\n",
    "try:\n",
    "    wiki={}#딕셔너리\n",
    "    guide(wiki)#실행\n",
    "    \n",
    "except ValueError: #input에 넣은 값이 이상할 경우\n",
    "    print(\"\\n입력하신 값을 검토하여 주세요.\")\n",
    "except IndexError: #입력에서 영어:한글순이 아닐 경우\n",
    "    print(\"\\n입력은 영어:한글순으로 입력하여 주세요\")\n",
    "except StopIteration:# 영어로 검색이나 한글로 검색에서 없는 단어를 입력하거나, 양식을 벗어난 경우\n",
    "    print(\"\\n사전에 없는 단어이거나 입력형식이 잘못되었습니다.\\n영어로는 영어로만,한글로는 한글로만 검색하여주세요\")\n",
    "             \n"
   ]
  },
  {
   "cell_type": "code",
   "execution_count": null,
   "id": "a345a7ae-3a5c-4bfb-8f92-5bf36f7f27b2",
   "metadata": {},
   "outputs": [],
   "source": []
  }
 ],
 "metadata": {
  "kernelspec": {
   "display_name": "Python 3",
   "language": "python",
   "name": "python3"
  },
  "language_info": {
   "codemirror_mode": {
    "name": "ipython",
    "version": 3
   },
   "file_extension": ".py",
   "mimetype": "text/x-python",
   "name": "python",
   "nbconvert_exporter": "python",
   "pygments_lexer": "ipython3",
   "version": "3.8.8"
  }
 },
 "nbformat": 4,
 "nbformat_minor": 5
}
