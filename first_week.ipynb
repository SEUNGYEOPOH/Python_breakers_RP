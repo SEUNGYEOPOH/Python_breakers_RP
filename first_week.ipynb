{
 "cells": [
  {
   "cell_type": "markdown",
   "id": "c8382b80",
   "metadata": {},
   "source": [
    "### 자료형(변수형)\n",
    "- 변수의 종류 또는 유형(type)\n",
    "- 변수: 데이터를 저장하는 공간\n",
    "\n",
    "### 선언\n",
    "- 필요한 자료형의 변수를 가져오는 것\n",
    "- Python은 할당을 하면 적절한 자료형의 선언이 함께 이루어지므로 선언을 특별히 하지 않음.\n",
    "\n",
    "### 할당(대입)\n",
    "- 변수에 데이터 혹은 특정한 값을 저장하는 것\n",
    "- 파이썬 -> = 사용\n",
    "- 처음 값을 할당 하는 것 -> 초기화\n",
    "- Python의 경우 a,b=1,2 처럼 여러 변수를 한번에 대입이 가능함\n",
    "\n",
    "               ex. Java -> int a;   a=3; \n",
    "                   Python -> a=3\n",
    "### 예약어(주의)\n",
    "<br>\n",
    "- False, None, True, and, as, assert, break, class, while,<br>\n",
    "    continue, def, del, elif , else, except, finally,with,<br>\n",
    "    for, from, global, if, import, in, is, lambda,yield<br>\n",
    "    nonlocal, not, or, pass, raise, return, try,<Br>\n",
    "    \n",
    "    \n",
    "### 파이썬 자료형\n",
    "#### 단일 자료형\n",
    "- int(정수)\n",
    "- float(실수)\n",
    "- complex(복소수)\n",
    "- bool(논리)\n",
    "    \n",
    "#### 군집 자료형\n",
    "- str(문자열)\n",
    "- list(리스트)\n",
    "- tuple(튜플)\n",
    "- set(집합)\n",
    "- dict(딕셔너리)\n",
    "   "
   ]
  },
  {
   "cell_type": "code",
   "execution_count": 7,
   "id": "3caf4a09",
   "metadata": {},
   "outputs": [
    {
     "name": "stdout",
     "output_type": "stream",
     "text": [
      "Hellow world\n",
      "<class 'int'>\n",
      "3\n"
     ]
    }
   ],
   "source": [
    "# 작성자: Seung yeop Oh\n",
    "# 작성일자: 2021-09-09\n",
    "# 프로그램 목적: Python Study and Sharing \n",
    "\n",
    "# 파이썬 자료형\n",
    "# 기본 명령어\n",
    "# print: 출력\n",
    "print(\"Hellow world\")\n",
    "\n",
    "# type: 자료형 종류\n",
    "a = 1\n",
    "print(type (a))\n",
    "\n",
    "# len: 변수 길이(군집자료형에서 활용가능성 多)\n",
    "b = [1,2,3]#[]는 리스트\n",
    "print(len(b))\n",
    "# print(len(a))-> 오류발생 why?: 단일 자료형에서는 사용불가함"
   ]
  },
  {
   "cell_type": "code",
   "execution_count": 11,
   "id": "cb828b71",
   "metadata": {},
   "outputs": [
    {
     "name": "stdout",
     "output_type": "stream",
     "text": [
      "<class 'int'>\n",
      "1.1\n",
      "<class 'float'>\n",
      "1.0\n",
      "<class 'float'>\n",
      "(1+2j)\n",
      "<class 'complex'>\n",
      "True\n",
      "<class 'bool'>\n",
      "False\n",
      "<class 'bool'>\n"
     ]
    }
   ],
   "source": [
    "# 1. 단일 자료형\n",
    "# 1.1. 정수형(int)\n",
    "a=1\n",
    "print(type (a))\n",
    "\n",
    "# 1.2. 실수형(float)\n",
    "\n",
    "b=1.1\n",
    "print(b)\n",
    "print(type(b))\n",
    "\n",
    "a=1. #실수형은 .0 생략가능.\n",
    "print(a)\n",
    "print(type(a))\n",
    "\n",
    "# 1.3. 복소수형(complex)\n",
    "a = 1+2j #오버라이드 최종적으로 할당(대입)한 값이 출력 \n",
    "print(a)\n",
    "print(type(a))\n",
    "\n",
    "# 1.4. 논리형(bool)\n",
    "a=True\n",
    "print(a)\n",
    "print(type(a))\n",
    "\n",
    "b=False\n",
    "print(b)\n",
    "print(type(b))"
   ]
  },
  {
   "cell_type": "code",
   "execution_count": 5,
   "id": "17b2e568",
   "metadata": {},
   "outputs": [
    {
     "name": "stdout",
     "output_type": "stream",
     "text": [
      "0\n",
      "<class 'int'>\n"
     ]
    }
   ],
   "source": [
    "c = int()\n",
    "print(c) # 초기화 (잘 사용하지 않지만 의미를 위해 표현)\n",
    "print(type(c))"
   ]
  },
  {
   "cell_type": "code",
   "execution_count": null,
   "id": "1f09e7a1",
   "metadata": {},
   "outputs": [],
   "source": []
  }
 ],
 "metadata": {
  "kernelspec": {
   "display_name": "Python 3",
   "language": "python",
   "name": "python3"
  },
  "language_info": {
   "codemirror_mode": {
    "name": "ipython",
    "version": 3
   },
   "file_extension": ".py",
   "mimetype": "text/x-python",
   "name": "python",
   "nbconvert_exporter": "python",
   "pygments_lexer": "ipython3",
   "version": "3.8.8"
  }
 },
 "nbformat": 4,
 "nbformat_minor": 5
}
