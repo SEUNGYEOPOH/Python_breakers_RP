{
 "cells": [
  {
   "cell_type": "markdown",
   "id": "8d33f1bd-6819-4a93-b561-7cfccb44399b",
   "metadata": {},
   "source": [
    "### 변수(숫자,문자,리스트)"
   ]
  },
  {
   "cell_type": "markdown",
   "id": "249cbbc3-7202-4dc9-a45b-1b77604a4458",
   "metadata": {},
   "source": [
    "- 1번 홍길동 씨의 국어, 수학, 영어의 점수는 차례대로 50, 80, 30이다. 모두 변수로 선언하고, 평균을 출력하라."
   ]
  },
  {
   "cell_type": "code",
   "execution_count": 15,
   "id": "e901310e-32d1-4199-8c06-18c6adab588a",
   "metadata": {},
   "outputs": [
    {
     "data": {
      "text/plain": [
       "53.333333333333336"
      ]
     },
     "execution_count": 15,
     "metadata": {},
     "output_type": "execute_result"
    }
   ],
   "source": [
    "a=50  #국어 변수 선언\n",
    "b=80  #수학  변수 선언\n",
    "c=30  #영어  변수 선언\n",
    "z=(a+b+c)/3 #평균계산\n",
    "z #출력"
   ]
  },
  {
   "cell_type": "markdown",
   "id": "c37d702e-4887-4a0b-8d12-c0b94a4a65b0",
   "metadata": {},
   "source": [
    "- 2번 자연수 409298570가 짝수인지 프로그래밍으로 판별하라."
   ]
  },
  {
   "cell_type": "code",
   "execution_count": 4,
   "id": "8fc5d50f-9fdf-4628-aaee-1f5e03c9cd33",
   "metadata": {},
   "outputs": [
    {
     "name": "stdout",
     "output_type": "stream",
     "text": [
      "짝수입니다.\n"
     ]
    }
   ],
   "source": [
    "# 짝수는 2로 나누었을 때 나누어지는 수-> 나머지 0\n",
    "a = 409298570 #변수 선언\n",
    "if a%2==0 : #나머지가 0이면 짝수출력\n",
    "    print(\"짝수입니다.\")\n",
    "else : #나머지가 0이 아니면 홀수출력\n",
    "    print(\"홀수입니다.\")"
   ]
  },
  {
   "cell_type": "markdown",
   "id": "81a24c2a-b050-418f-9103-02748348e437",
   "metadata": {},
   "source": [
    "- 3번 다음과 같이 \"국어:수학:영어:프로그래밍\" 이라는 문자열이 있다. 내장함수를 이용하여 \"국어, 수학, 영어, 프로그래밍\"으로 바꿔 출력하라."
   ]
  },
  {
   "cell_type": "code",
   "execution_count": 6,
   "id": "30107f3f-972d-4923-958a-753b01ae3f82",
   "metadata": {},
   "outputs": [
    {
     "data": {
      "text/plain": [
       "'국어, 수학, 영어, 프로그래밍'"
      ]
     },
     "execution_count": 6,
     "metadata": {},
     "output_type": "execute_result"
    }
   ],
   "source": [
    "str=\"국어:수학:영어:프로그래밍\" #문자열 \n",
    "str.replace(\":\",\", \") #replace를 통해 :을 ,로 바꾸어 출력"
   ]
  },
  {
   "cell_type": "markdown",
   "id": "eebf4dba-c958-4ea6-a389-4f1560977d55",
   "metadata": {},
   "source": [
    "- 4번 다음과 같은 리스트가 있다. [1, 70, 3, 80, 5]. 내장함수를 이용해서 뒤집어서 [5, 80, 3, 70, 1]로 만들고 출력하라."
   ]
  },
  {
   "cell_type": "code",
   "execution_count": 9,
   "id": "5f1f223a-765e-49bc-bc8e-c63580253b4a",
   "metadata": {},
   "outputs": [
    {
     "data": {
      "text/plain": [
       "[5, 80, 3, 70, 1]"
      ]
     },
     "execution_count": 9,
     "metadata": {},
     "output_type": "execute_result"
    }
   ],
   "source": [
    "osy = [1,70,3,80,5] #리스트\n",
    "osy.reverse() #reverse를 통해 역순으로 변환\n",
    "osy"
   ]
  },
  {
   "cell_type": "markdown",
   "id": "1c1e3d4d-b007-46c0-aeaf-13f3605b168e",
   "metadata": {},
   "source": [
    "- 5번 다음과 같은 리스트가 있다. [\"파이썬은\", \"정말\", \"편하다\"]. 내장함수를 이용하여 \"파이썬은 정말 편하다\"를 만들고 출력하라."
   ]
  },
  {
   "cell_type": "code",
   "execution_count": 153,
   "id": "12c2696b-f1bb-4703-b2cc-e142eb5ea454",
   "metadata": {},
   "outputs": [
    {
     "data": {
      "text/plain": [
       "'파이썬은 정말 편하다'"
      ]
     },
     "execution_count": 153,
     "metadata": {},
     "output_type": "execute_result"
    }
   ],
   "source": [
    "opt = [\"파이썬은\",\"정말\",\"편하다\"] #리스트\n",
    "' '.join(opt) #join함수는 문자열 사이에 구분자를 연결하여 합침"
   ]
  },
  {
   "cell_type": "markdown",
   "id": "6fbc1514-1a2e-4382-bbd6-dd05f7c7d243",
   "metadata": {},
   "source": [
    "- 6번 다음과 같은 리스트가 있다. [1, 50, 410, 10, 3, 4, 5]. 내장함수를 이용해서 오름차순으로 정렬하고 출력하라."
   ]
  },
  {
   "cell_type": "code",
   "execution_count": 10,
   "id": "b5510861-0a1a-472f-a93c-aa1011ad68dd",
   "metadata": {},
   "outputs": [
    {
     "data": {
      "text/plain": [
       "[1, 3, 4, 5, 10, 50, 410]"
      ]
     },
     "execution_count": 10,
     "metadata": {},
     "output_type": "execute_result"
    }
   ],
   "source": [
    "num = [1,50,410,10,3,4,5] #리스트\n",
    "num.sort() #sort는 오름차순으로 정렬\n",
    "num #출력"
   ]
  },
  {
   "cell_type": "markdown",
   "id": "cf7f8bc4-b39e-453b-a306-06e8eb430a50",
   "metadata": {},
   "source": [
    "- 7번 다음과 같은 문자열이 있다. \" I love python \". 양쪽의 공백을 내장함수를 이용해서 지우고 출력하라."
   ]
  },
  {
   "cell_type": "code",
   "execution_count": 27,
   "id": "81e833c7-dbb8-4a21-accb-7a923e792c5b",
   "metadata": {},
   "outputs": [
    {
     "data": {
      "text/plain": [
       "'i love python'"
      ]
     },
     "execution_count": 27,
     "metadata": {},
     "output_type": "execute_result"
    }
   ],
   "source": [
    "str = \" i love python \" #문자열\n",
    "str.strip() #strip은 문자열의 양쪽 공백을 제거함"
   ]
  },
  {
   "cell_type": "markdown",
   "id": "ed8d78d9-2685-4d57-acb3-2ac5a69c0491",
   "metadata": {},
   "source": [
    "### 제어문"
   ]
  },
  {
   "cell_type": "markdown",
   "id": "6c8c8a80-82ca-4d01-83ea-65fa3bae1098",
   "metadata": {},
   "source": [
    "- 1번 for문을 이용해서 1부터 100까지의 수를 더하고 출력하라."
   ]
  },
  {
   "cell_type": "code",
   "execution_count": 30,
   "id": "171382b6-accb-44f4-b84c-391549609dc8",
   "metadata": {},
   "outputs": [
    {
     "data": {
      "text/plain": [
       "5050"
      ]
     },
     "execution_count": 30,
     "metadata": {},
     "output_type": "execute_result"
    }
   ],
   "source": [
    "add = 0 #밑에서 사용할 것이기에 선언\n",
    "for i in range(1,101): #range(시작숫자,끝숫자-1)로 1~100번 반복\n",
    "    add = add+i #중첩하여 더함\n",
    "    \n",
    "add #출력"
   ]
  },
  {
   "cell_type": "markdown",
   "id": "c5d05736-86d1-4468-8f35-17f2a2117911",
   "metadata": {},
   "source": [
    "- 2번 while문을 이용해서 1부터 100까지의 수를 더하고 출력하라."
   ]
  },
  {
   "cell_type": "code",
   "execution_count": 34,
   "id": "868d8c43-4bf1-4b07-b27c-ea6de9fd6ba4",
   "metadata": {},
   "outputs": [
    {
     "data": {
      "text/plain": [
       "5050"
      ]
     },
     "execution_count": 34,
     "metadata": {},
     "output_type": "execute_result"
    }
   ],
   "source": [
    "i=0 #밑에서 사용할 것이기에 선언\n",
    "add=0 #밑에서 사용할 것이기에 선언\n",
    "while i<100: # 0~99까지 100번\n",
    "    i=i+1 #i는 1씩 커져감 즉 1~100\n",
    "    add= add + i #1~100까지 더한 값\n",
    "    \n",
    "add #출력"
   ]
  },
  {
   "cell_type": "markdown",
   "id": "b818fb47-b484-4ea3-8a4b-9ead517b96eb",
   "metadata": {},
   "source": [
    "- 3번 1부터 100까지 3의 배수만 더하고 출력하라."
   ]
  },
  {
   "cell_type": "code",
   "execution_count": 36,
   "id": "d1b168d5-7338-42ae-ace7-b5d035a62ec3",
   "metadata": {},
   "outputs": [
    {
     "data": {
      "text/plain": [
       "1683"
      ]
     },
     "execution_count": 36,
     "metadata": {},
     "output_type": "execute_result"
    }
   ],
   "source": [
    "add = 0 #밑에서 사용할 것이기에 선언\n",
    "for i in range(1,101): #range(시작숫자,끝숫자-1)로 1~100번 반복\n",
    "    if i%3==0: #3으로 나눈 값이 0일우 즉 3의 배수일 경우에만\n",
    "        add= add+i #값을 더하게 됨\n",
    "\n",
    "add #출력"
   ]
  },
  {
   "cell_type": "markdown",
   "id": "a6ce210b-8cc6-4a50-92dc-33864ad50deb",
   "metadata": {},
   "source": [
    "- 4번 A학급에는 10명의 학생이 있고, 이 학생들의 중간고사 점수는 다음과 같다. [70, 60, 55, 75, 95, 90, 80, 80, 85, 100]. for문을 사용해서 A학급의 평균 점수를 구하고 출력하라."
   ]
  },
  {
   "cell_type": "code",
   "execution_count": 42,
   "id": "b3682f8e-8c13-4ae0-a395-41eaa2b12bfe",
   "metadata": {},
   "outputs": [
    {
     "data": {
      "text/plain": [
       "79.0"
      ]
     },
     "execution_count": 42,
     "metadata": {},
     "output_type": "execute_result"
    }
   ],
   "source": [
    "num = 0 #밑에서 사용할 것이므로 선언\n",
    "scr=[70,60,55,75,95,90,80,80,85,100] #리스트\n",
    "for scrs in scr: #range가 아닌 리스트를 주게되면 리스트에 담긴 값을 꺼내 개수만큼 반복\n",
    "    num = num+ scrs #중첩하여 더함\n",
    "\n",
    "num/len(scr) #총 더한 값을 리스트의 갯수만큼 나눔-> 평균"
   ]
  },
  {
   "cell_type": "markdown",
   "id": "9a4f6214-2304-4dd4-a93b-a797d7f1edc9",
   "metadata": {},
   "source": [
    "- 5번 다음과 같은 리스트가 있다. [1, 3, 5, 40, 90, 100, 2020]. for문을 사용해서 홀수에만 2를 곱하고 리스트를 출력하라."
   ]
  },
  {
   "cell_type": "code",
   "execution_count": 79,
   "id": "0c530a7f-bb44-4e9d-919c-ad6c6b5f7c20",
   "metadata": {},
   "outputs": [
    {
     "name": "stdout",
     "output_type": "stream",
     "text": [
      "[2, 6, 10, 40, 90, 100, 2020]\n"
     ]
    }
   ],
   "source": [
    "num=[1,3,5,40,90,100,2020] #리스트\n",
    "for i in range(0, len(num)) : #0부터 리스트에 담긴개수-1 즉 리스트의 담긴 갯수만큼 반복\n",
    "    if num[i]%2==1 : #2로나누었을 때 나머지가 남는 홀수일 경우에만 \n",
    "        num[i]=num[i]*2 #2를 곱하여 저장\n",
    "       \n",
    "print(num) #출력"
   ]
  },
  {
   "cell_type": "markdown",
   "id": "81a3846a-04a9-4dc2-98b3-e25fe04e96fe",
   "metadata": {},
   "source": [
    "- 6번 for문을 이용해 다음을 출력하라"
   ]
  },
  {
   "cell_type": "code",
   "execution_count": 154,
   "id": "3f6bbf1a-0ab5-48f8-aec3-4bd239053476",
   "metadata": {},
   "outputs": [
    {
     "name": "stdout",
     "output_type": "stream",
     "text": [
      "*\n",
      "**\n",
      "***\n",
      "****\n",
      "*****\n"
     ]
    }
   ],
   "source": [
    "for i in range(1,6): #1부터 5까지 총 5번 반복\n",
    "    print('*'*i) #java와 달리 문자열과 숫자의 연산이 가능하므로 case1~5까지 각각 별의 개수 증가\n"
   ]
  },
  {
   "cell_type": "markdown",
   "id": "00e3b905-ab9b-4e09-9063-07cfd1e446ba",
   "metadata": {},
   "source": [
    "### 함수와 입출력"
   ]
  },
  {
   "cell_type": "markdown",
   "id": "ed6f04c2-2cfd-47ea-91e7-e197ad1cfcda",
   "metadata": {},
   "source": [
    "- 1번 학점산출함수를 만들어라. 학생의 점수를 입력할 수 있고, 점수를 기반으로 학점을 매겨주고 출력해야한다.\n",
    "(A : 100~80, B : 79 ~ 50, C : 49 ~ 30, F : 29 ~)"
   ]
  },
  {
   "cell_type": "code",
   "execution_count": 234,
   "id": "17341212-ee16-43ec-b1d9-3b956f410a5c",
   "metadata": {},
   "outputs": [
    {
     "name": "stdin",
     "output_type": "stream",
     "text": [
      "input : 안녕\n"
     ]
    },
    {
     "name": "stdout",
     "output_type": "stream",
     "text": [
      "숫자만 입력하여 주세요!\n"
     ]
    }
   ],
   "source": [
    "scr=input(\"input :\") #입력값\n",
    " \n",
    "def ave(scr): #학점계산함수\n",
    "    opt=\"output :\" \n",
    "    if scr.isdigit() : #isdigit은 문자열 중 숫자로만 이루어 질 경우 TRUE값 리턴 즉 이 경우가아니면 문자열이 포함되거나 다른 문제가 있음\n",
    "        if int(scr)>100:\n",
    "            print('점수를 잘못 입력하셨습니다')\n",
    "        elif int(scr)<=100 and int(scr)>=80:#A\n",
    "            print(\"%s A\"%(opt))\n",
    "        elif int(scr)<=79 and int(scr)>=50: #B\n",
    "            print(\"%s B\"%(opt))\n",
    "        elif scr<=49 and int(scr)>=30: #C\n",
    "            print(\"%s C\"%(opt)) \n",
    "        elif scr<=29 and scr>=0: #F\n",
    "            print(\"%s F\"%(opt))\n",
    "        else : #점수가 음수일 경우 x\n",
    "            print('점수를 잘못 입력하셨습니다')\n",
    "    else : #문자열이 포함되거나 숫자가 아닌 것을 입력했을 경우\n",
    "        print('숫자만 입력하여 주세요!')\n",
    "ave(scr)#함수실행"
   ]
  },
  {
   "cell_type": "markdown",
   "id": "bc28e91c-0dba-4fc2-a2a4-095e7017f85c",
   "metadata": {},
   "source": [
    "- 2번 짝수 판별 프로그램을 만들어라. 수를 하나 입력할 수 있고, 그 수가 짝수이면 True, 홀수이면 False를 리턴한다."
   ]
  },
  {
   "cell_type": "code",
   "execution_count": 141,
   "id": "f1ace2bf-d81d-4d4c-a898-ff10c718e189",
   "metadata": {},
   "outputs": [
    {
     "name": "stdin",
     "output_type": "stream",
     "text": [
      "input : 1\n"
     ]
    },
    {
     "name": "stdout",
     "output_type": "stream",
     "text": [
      "return : False\n"
     ]
    }
   ],
   "source": [
    "scr=input(\"input :\") #입력값\n",
    "\n",
    "def even(scr): #판별함수\n",
    "    opt=\"output :\" \n",
    "    if scr%2==0: #짝수일경우 TRUE리턴\n",
    "        return True\n",
    "    else: #홀수일경우 FALSE리턴\n",
    "        return False\n",
    "\n",
    "        \n",
    "def isd(scr): #예외검증함수\n",
    "    if scr.isdigit(): #입력한 문자가 숫자일 경우만\n",
    "        print('return :',even(int(scr))) #판별함수로 이동\n",
    "    else :\n",
    "        print('숫자 1개만 입력해 주세요!') #문자를 입력했거나 숫자를 2개이상 입력했을 경우\n",
    "isd(scr)"
   ]
  },
  {
   "cell_type": "markdown",
   "id": "ad97043c-87c2-4a32-86f0-cf01512e54e6",
   "metadata": {},
   "source": [
    "- 3번 주민등록번호 판별 프로그램을 만들어라. 주민등록번호를 입력할 수 있고, 그 번호를 통해 몇년생인지, 그리고 남자 인지 여자인지를 판별하고 출력해야한다."
   ]
  },
  {
   "cell_type": "code",
   "execution_count": 235,
   "id": "49a352bb-3a14-44ac-ba73-1ff85c1dba64",
   "metadata": {},
   "outputs": [
    {
     "name": "stdin",
     "output_type": "stream",
     "text": [
      "input : 990806-1125616\n"
     ]
    },
    {
     "name": "stdout",
     "output_type": "stream",
     "text": [
      "output : 99년생, 남자\n"
     ]
    }
   ],
   "source": [
    "scr =input(\"input :\") #입력값\n",
    "print(\"output : \", end=\"\") \n",
    "exe(scr)\n",
    "\n",
    "def exe(scr): #형식판별함수\n",
    "    if '-' in scr : #입력값에 -가 포함된 경우\n",
    "        two=scr.split('-') #-를 기준으로 나누어 리스트에 담김\n",
    "        num(two[0], two[1]) #내용판별함수로 이동\n",
    "    else : #구분자가 -가 아닌경우\n",
    "        print('형식을 확인하여 주세요!')\n",
    "        \n",
    "def num(a,b): #내용판별함수\n",
    "    if len(a)==6 and len(b)==7 and a.isdigit() and b.isdigit(): #생년월일6자리와 뒷자리가 7자리이며 모두 숫자로만 이루어졌을 경우\n",
    "        year=scr[0:2] #생년 저장\n",
    "        birth(scr) #성별,출생연도 판별함수로 이동\n",
    "    else: #문자가 포함된 경우\n",
    "        print('다시 한 번 확인하여 주시기 바랍니다.')\n",
    "\n",
    "\n",
    "def birth(scr): #성별,출생연도 판별함수\n",
    "    print(year+'년생, ',end='')\n",
    "    if int(scr[7])==1 or int(scr[7])==3: #00년생이후 출생남자는 주민번호 뒷자리 첫부분이 3, 이전은 1 \n",
    "        print('남자') \n",
    "    elif int(scr[7])==2 or int(scr[7])==4:  #00년생이후 출생여자는 주민번호 뒷자리 첫부분이 4, 이전은 2\n",
    "        print('여자')\n",
    "    else : #이외의 다른 숫자는 들어갈 수 없음.\n",
    "        print('주민등록번호를 확인하여 주세요')\n",
    "        "
   ]
  },
  {
   "cell_type": "markdown",
   "id": "e4d1681b-e7fb-4149-89c3-5dbb3ae1a570",
   "metadata": {},
   "source": [
    "- 4번 간단한 계산기 함수를 만들어라. 사칙연산과 나머지 연산이 되어야한다."
   ]
  },
  {
   "cell_type": "code",
   "execution_count": 49,
   "id": "f2f46b57-94eb-4b87-a249-ef52e5a5ac85",
   "metadata": {},
   "outputs": [
    {
     "name": "stdin",
     "output_type": "stream",
     "text": [
      "input :  20\n",
      " ,\n",
      " 1\n"
     ]
    },
    {
     "name": "stdout",
     "output_type": "stream",
     "text": [
      "연산기호를 검토하세요!\n"
     ]
    }
   ],
   "source": [
    "num = input('input : ') #첫숫자 입력\n",
    "cal = input() #연산자 입력\n",
    "num2 = input() #두번째 숫자 입력\n",
    "\n",
    "def api(a,b,c): #연산기호 판별 함수\n",
    "    if b=='-' or b=='+' or b=='*' or b=='/': #사칙연산이 적용됐을 경우만\n",
    "        check(a,b,c) #숫자판별함수로 이동\n",
    "    else: #연산기호를 잘못입력한 경우\n",
    "        print('연산기호를 검토하세요!')\n",
    "\n",
    "def check(d,e,f): #숫자판별함수\n",
    "    if d.isdigit() and f.isdigit: #입력한 숫자들이 숫자로 이루어진 경우만\n",
    "        print('output :',calculation(int(d),e,int(f))) #계산함수로 이동\n",
    "    else : #문자를 입력한 경우\n",
    "        print('문자는 입력하실 수 없습니다.')\n",
    "        \n",
    "def calculation(g,h,i): #계산함수\n",
    "    if h == '+': #+일경우 더한 값 return\n",
    "        return g+i\n",
    "    elif  h == '-': #-일경우 뺸 값 return\n",
    "        return g-i\n",
    "    elif  h == '*': #*일경우 곱한 값 return\n",
    "        return g*i\n",
    "    elif  h == '/': #/일경우 나눈 값과 나머지 return\n",
    "        return int(g/i), g%i\n",
    "             \n",
    "        \n",
    "        \n",
    "api(num,cal,num2)"
   ]
  },
  {
   "cell_type": "markdown",
   "id": "92df7be2-c965-417d-be51-632dfbb193b2",
   "metadata": {},
   "source": [
    "- 5번 거스름돈 함수를 만들어라. 금액을 입력하면 거스름돈을 출력해야한다."
   ]
  },
  {
   "cell_type": "code",
   "execution_count": 140,
   "id": "d774c61b-ae2f-4191-b182-c9ed1945ac7a",
   "metadata": {},
   "outputs": [
    {
     "name": "stdin",
     "output_type": "stream",
     "text": [
      "input : 1340000\n"
     ]
    },
    {
     "name": "stdout",
     "output_type": "stream",
     "text": [
      "output :50000원 : 26개\n",
      "10000원 : 4개\n",
      "5000원 : 0개\n",
      "1000원 : 0개\n",
      "500원 : 0개\n",
      "100원 : 0개\n",
      "50원 : 0개\n",
      "10원 : 0개\n"
     ]
    }
   ],
   "source": [
    "scr=input(\"input :\") #금액입력\n",
    "\n",
    "def cost(scr): #거스름돈 계산함수\n",
    "    money=[50000,10000,5000,1000,500,100,50,10] #화폐종류 리스트에 담음\n",
    "    print('output :',end='') \n",
    "    for i in money: #리스트에 담긴 값을 차례대로 꺼내고 다 꺼낼 때까지 반복\n",
    "        if i==50000: #50000이 꺼내진 경우\n",
    "            a=scr/i #입력금액에서 화폐로 거슬러지는 최다 수\n",
    "            b=scr%i #나머지\n",
    "            print(\"%d원 : %d개\"%(i,a))\n",
    "        if i==10000: #10000이 꺼내진 경우\n",
    "            c=b/i ##50000원으로 거슬러 주고 남은 나머지에서 해당화폐로 거슬러지는 최다 수\n",
    "            d=b%i #나머지\n",
    "            print(\"%d원 : %d개\"%(i,c))\n",
    "        if i==5000: #5000이 꺼내진 경우\n",
    "            e=d/i #10000원으로 거슬러 주고 남은 나머지에서 해당화폐로 거슬러지는 최다 수\n",
    "            f=d%i #나머지\n",
    "            print(\"%d원 : %d개\"%(i,e))\n",
    "        if i==1000: #1000이 꺼내진 경우\n",
    "            g=f/i #5000원으로 거슬러 주고 남은 나머지에서 해당화폐로 거슬러지는 최다 수\n",
    "            h=f%i #나머지\n",
    "            print(\"%d원 : %d개\"%(i,g))\n",
    "        if i==500: #500이 꺼내진 경우\n",
    "            q=h/i #1000원으로 거슬러 주고 남은 나머지에서 해당화폐로 거슬러지는 최다 수\n",
    "            j=h%i #나머지\n",
    "            print(\"%d원 : %d개\"%(i,q))\n",
    "        if i==100: #100이 꺼내진 경우\n",
    "            k=j/i ##500원으로 거슬러 주고 남은 나머지에서 해당화폐로 거슬러지는 최다 수\n",
    "            l=j%i #나머지\n",
    "            print(\"%d원 : %d개\"%(i,k))\n",
    "        if i==50: #50이 꺼내진 경우\n",
    "            m=l/i ##100원으로 거슬러 주고 남은 나머지에서 해당화폐로 거슬러지는 최다 수\n",
    "            n=l%i #나머지\n",
    "            print(\"%d원 : %d개\"%(i,m))\n",
    "        if i==10: #10이 꺼내진 경우\n",
    "            o=n/i ##50원으로 거슬러 주고 남은 나머지에서 해당화폐로 거슬러지는 최다 수\n",
    "            p=n%i #나머지\n",
    "            print(\"%d원 : %d개\"%(i,o))\n",
    "         \n",
    "def isd(scr): #숫자판별함수\n",
    "    if scr.isdigit(): #입력한 금액이 숫자일 경우만\n",
    "        cost(int(scr)) #거스름돈 계산함수로 이동\n",
    "    else : #문자를 입력한 경우\n",
    "        print('숫자만 입력해 주세요!')\n",
    "        \n",
    "isd(scr)"
   ]
  },
  {
   "cell_type": "markdown",
   "id": "5eb63e47-d40b-4442-aa23-6f47754b9252",
   "metadata": {},
   "source": [
    "- 6번 이차방정식의 근을 구하는 함수를 만들어라.\n",
    "    제곱근은 파이썬 내장 모듈인 math 모듈을 통해 이용할 수 있다."
   ]
  },
  {
   "cell_type": "code",
   "execution_count": 2,
   "id": "0e84358d-0391-411c-9e3f-e11a9590f516",
   "metadata": {},
   "outputs": [
    {
     "name": "stdin",
     "output_type": "stream",
     "text": [
      "input :  1x^2+6x-27\n"
     ]
    },
    {
     "name": "stdout",
     "output_type": "stream",
     "text": [
      "output : x1 = 3, x2 = -9\n"
     ]
    }
   ],
   "source": [
    "import math\n",
    "equ = input('input : ') #입력값\n",
    "\n",
    "def equation (equ): #계산함수\n",
    "    f=equ.find('x') #x^2의 x위치\n",
    "    t=equ.rfind('x') #x의 x위치\n",
    "    p=len(equ)+1 #상수항 \n",
    "    fff=f+3 #^,2의 다음위치에서 계수와 x위치가 판별됨으로 +3\n",
    "    tt=t+1 #x의 다음위치부터 상수값의 부호가 포함되므로 +1\n",
    "    a=equ[0:f] #x^2계수 \n",
    "    b=equ[fff:t] #x계수 \n",
    "    c=equ[tt:p] #상수 값\n",
    "    \n",
    "    \n",
    "    if check(a) and check(b) and check(c) and a!=0 : #형식검사함수에서 x^2의 계수가 0이아니고, 모든 값이 숫자일 경우\n",
    "        a=int(a)#정수형으로 변환\n",
    "        b=int(b)#정수형으로 변환\n",
    "        c=int(c)#정수형으로 변환\n",
    "        D=pow(b,2)-4*a*c #판별식\n",
    "        if D>0: #두 실근\n",
    "            sol1=(-b+math.sqrt(D))/2*a #근의공식\n",
    "            sol2=(-b-math.sqrt(D))/2*a #근의공식\n",
    "            print('output : x1 = %d, x2 = %d'%(sol1 , sol2))# 두 실근 \n",
    "        elif D<0: #허근\n",
    "            print('output : 허근은 지원하지 않습니다.')\n",
    "        elif D==0: #중근 -> 완전제곱식\n",
    "            overlap=(-b+math.sqrt(D))/2*a #중근일 경우 값이 동일하므로 한 값만 출력\n",
    "            print('output : x = %d'%(overlap)) \n",
    "    else : #\n",
    "        print('한번 더 확인하여주세요!')\n",
    "\n",
    "def check (equ): #형식검사함수\n",
    "    if equ[0]==\"-\" or equ[0]==\"+\" : # a,b,c 즉 상수항과 x^2, x의 계수가 모두 숫자로 이루어졌는지 검사\n",
    "        return equ[1:].isdigit() #숫자로 이루어 졌을경우 True return\n",
    "    else : #부호가 붙지 않는 경우 \n",
    "        return equ.isdigit() #False\n",
    "    \n",
    "\n",
    "equation(equ)\n",
    "\n"
   ]
  },
  {
   "cell_type": "code",
   "execution_count": null,
   "id": "8b39b535-3714-40d2-abee-f7f6bc04084f",
   "metadata": {},
   "outputs": [],
   "source": []
  }
 ],
 "metadata": {
  "kernelspec": {
   "display_name": "Python 3",
   "language": "python",
   "name": "python3"
  },
  "language_info": {
   "codemirror_mode": {
    "name": "ipython",
    "version": 3
   },
   "file_extension": ".py",
   "mimetype": "text/x-python",
   "name": "python",
   "nbconvert_exporter": "python",
   "pygments_lexer": "ipython3",
   "version": "3.8.8"
  }
 },
 "nbformat": 4,
 "nbformat_minor": 5
}
